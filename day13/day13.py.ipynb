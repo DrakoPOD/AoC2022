{
 "cells": [
  {
   "cell_type": "code",
   "execution_count": 104,
   "metadata": {},
   "outputs": [],
   "source": [
    "import json\n",
    "import functools"
   ]
  },
  {
   "cell_type": "code",
   "execution_count": 105,
   "metadata": {},
   "outputs": [],
   "source": [
    "raw = None\n",
    "\n",
    "with open('./data-13.txt') as file:\n",
    "    raw = file.read()\n"
   ]
  },
  {
   "cell_type": "code",
   "execution_count": 106,
   "metadata": {},
   "outputs": [],
   "source": [
    "data =  [[json.loads(y) for y in x.split('\\n')] for x in raw.split('\\n\\n')]"
   ]
  },
  {
   "cell_type": "code",
   "execution_count": 107,
   "metadata": {},
   "outputs": [],
   "source": [
    "def as_list(x):\n",
    "    if type(x) is list:\n",
    "        return x\n",
    "    else:\n",
    "        return [x]"
   ]
  },
  {
   "cell_type": "code",
   "execution_count": 108,
   "metadata": {},
   "outputs": [],
   "source": [
    "def compare(arr1, arr2):\n",
    "    i = 0\n",
    "    while True:\n",
    "        if len(arr1) == len(arr2) and len(arr1) <= i: return None\n",
    "        if len(arr1) <= i: return True\n",
    "        if len(arr2) <= i: return False\n",
    "\n",
    "        if type(arr1[i]) is int and type(arr2[i]) is int:\n",
    "            if arr1[i] > arr2[i]:\n",
    "                return False\n",
    "            elif arr1[i] < arr2[i]:\n",
    "                return True\n",
    "        else:\n",
    "            result = compare(as_list(arr1[i]), as_list(arr2[i]))\n",
    "            if not (result == None):\n",
    "                return result\n",
    "            \n",
    "        i+= 1\n"
   ]
  },
  {
   "cell_type": "code",
   "execution_count": 109,
   "metadata": {},
   "outputs": [
    {
     "data": {
      "text/plain": [
       "5529"
      ]
     },
     "execution_count": 109,
     "metadata": {},
     "output_type": "execute_result"
    }
   ],
   "source": [
    "points = 0\n",
    "\n",
    "for idx, arr in enumerate(data):\n",
    "    result = compare(*arr)\n",
    "    if (result): \n",
    "        points += idx + 1\n",
    "\n",
    "points"
   ]
  },
  {
   "attachments": {},
   "cell_type": "markdown",
   "metadata": {},
   "source": [
    "# Parte 2"
   ]
  },
  {
   "cell_type": "code",
   "execution_count": 110,
   "metadata": {},
   "outputs": [],
   "source": [
    "data2 = [json.loads(x) for x in raw.replace('\\n\\n','\\n').split('\\n')]\n",
    "\n",
    "pack1 = [[2]]\n",
    "pack2 = [[6]]\n",
    "data2.append(pack1)\n",
    "data2.append(pack2)"
   ]
  },
  {
   "cell_type": "code",
   "execution_count": 111,
   "metadata": {},
   "outputs": [],
   "source": [
    "def compare2(arr1,arr2):\n",
    "    if (compare(arr1,arr2)):\n",
    "        return -1\n",
    "    return 1"
   ]
  },
  {
   "cell_type": "code",
   "execution_count": 112,
   "metadata": {},
   "outputs": [],
   "source": [
    "data2.sort(key=functools.cmp_to_key(compare2))"
   ]
  },
  {
   "cell_type": "code",
   "execution_count": 113,
   "metadata": {},
   "outputs": [
    {
     "data": {
      "text/plain": [
       "27690"
      ]
     },
     "execution_count": 113,
     "metadata": {},
     "output_type": "execute_result"
    }
   ],
   "source": [
    "(data2.index(pack1) + 1) * (data2.index(pack2) + 1)"
   ]
  }
 ],
 "metadata": {
  "kernelspec": {
   "display_name": "Python 3.9.13 ('base')",
   "language": "python",
   "name": "python3"
  },
  "language_info": {
   "codemirror_mode": {
    "name": "ipython",
    "version": 3
   },
   "file_extension": ".py",
   "mimetype": "text/x-python",
   "name": "python",
   "nbconvert_exporter": "python",
   "pygments_lexer": "ipython3",
   "version": "3.9.13"
  },
  "orig_nbformat": 4,
  "vscode": {
   "interpreter": {
    "hash": "ad2bdc8ecc057115af97d19610ffacc2b4e99fae6737bb82f5d7fb13d2f2c186"
   }
  }
 },
 "nbformat": 4,
 "nbformat_minor": 2
}
