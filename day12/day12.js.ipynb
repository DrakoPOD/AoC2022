{
 "cells": [
  {
   "cell_type": "code",
   "execution_count": 1,
   "metadata": {},
   "outputs": [],
   "source": [
    "var fs = require('fs').promises"
   ]
  },
  {
   "cell_type": "code",
   "execution_count": 2,
   "metadata": {},
   "outputs": [
    {
     "data": {
      "text/plain": [
       "Promise { <pending> }"
      ]
     },
     "execution_count": 2,
     "metadata": {},
     "output_type": "execute_result"
    }
   ],
   "source": [
    "var raw\n",
    "var data\n",
    "fs.readFile('./data-12.txt','utf8').then((file) => {\n",
    "  raw = file\n",
    "  data = raw.split('\\r\\n').map(x=>x.split(''))\n",
    "}).catch((err) => {\n",
    "  console.log(err)\n",
    "});\n"
   ]
  },
  {
   "cell_type": "code",
   "execution_count": 3,
   "metadata": {},
   "outputs": [
    {
     "data": {
      "text/plain": [
       "[ [ 20, 0 ], [ 20, 145 ] ]"
      ]
     },
     "execution_count": 3,
     "metadata": {},
     "output_type": "execute_result"
    }
   ],
   "source": [
    "var start\n",
    "var end\n",
    "for (let i = 0; i < data.length; i++) {\n",
    "  let e = data[i].indexOf('S');\n",
    "  if (e>-1){\n",
    "    start = [i,e]\n",
    "  }\n",
    "  e = data[i].indexOf('E');\n",
    "  if (e>-1){\n",
    "    end = [i,e]\n",
    "  }\n",
    "  if (start && end) break\n",
    "}\n",
    "[start,end]"
   ]
  },
  {
   "cell_type": "code",
   "execution_count": 4,
   "metadata": {},
   "outputs": [],
   "source": [
    "class NODE{\n",
    "  constructor(x,y,value){\n",
    "    this.x = x\n",
    "    this.y = y\n",
    "    this.value = value\n",
    "    this.point = value.charCodeAt() - 97\n",
    "    this.type = (()=>{\n",
    "      if (value == 'S') {\n",
    "        this.point = 0\n",
    "        return 'start'\n",
    "      }\n",
    "      if (value == 'E') {\n",
    "        this.point = 122-97\n",
    "        return 'end'\n",
    "      }\n",
    "      return 'node'\n",
    "    })()\n",
    "    this.h = Math.abs(end[1] - x) + Math.abs(end[0] - y)\n",
    "    // this.g = Math.abs(start[1] - x) + Math.abs(start[0] - y)\n",
    "    this.prev\n",
    "    this.next\n",
    "    this.visited = false\n",
    "\n",
    "    this.vecinos = []\n",
    "    this.path = false\n",
    "    this.cost = 0\n",
    "    this.total = 10000\n",
    "    this.prev_axi = [0,0]\n",
    "    this.key = y*1000 + x\n",
    "  }\n",
    "  g(vecino){\n",
    "    let result = vecino.point - this.point \n",
    "    result = result > 1 ? 10000 : Math.abs(result)\n",
    "    let axi = Math.abs(vecino.prev_axi[0] - this.prev_axi[0]) + Math.abs(vecino.prev_axi[1] - this.prev_axi[1]) \n",
    "    result = result + this.cost + 1 + axi\n",
    "    return result\n",
    "  }\n",
    "  enable(){\n",
    "    return this.vecinos.every(x => !x.visited)\n",
    "  }\n",
    "}"
   ]
  },
  {
   "cell_type": "code",
   "execution_count": 5,
   "metadata": {},
   "outputs": [
    {
     "data": {
      "text/plain": [
       "517"
      ]
     },
     "execution_count": 5,
     "metadata": {},
     "output_type": "execute_result"
    }
   ],
   "source": [
    "function aStar(){\n",
    "  const xMax = data[0].length\n",
    "  const yMax = data.length\n",
    "\n",
    "  let maps = Array(yMax).fill(null).map(()=> Array(xMax).fill(null))\n",
    "\n",
    "  const directions = [[1,0],[0,1],[0,-1],[-1,0]]\n",
    "\n",
    "  maps[start[0]][start[1]] = new NODE(start[1],start[0],'S')\n",
    "  maps[end[0]][end[1]] = new NODE(end[1],end[0],'E')\n",
    "  \n",
    "  let pos = maps[start[0]][start[1]]\n",
    "\n",
    "  let nodes = {[start[0]*1000+start[1]]: pos}\n",
    "  \n",
    "  let empty = false;\n",
    "  while(true){\n",
    "    for(let [x2,y2] of directions){\n",
    "      let x = pos.x + x2\n",
    "      let y = pos.y + y2\n",
    "      \n",
    "      if (x < 0 || y < 0 || x >= xMax || y >= yMax)  continue\n",
    "\n",
    "      if(!maps[y][x]){\n",
    "        maps[y][x] = new NODE(x,y,data[y][x])\n",
    "      }\n",
    "      const next = maps[y][x] \n",
    "      \n",
    "      pos.vecinos.push(next)\n",
    "      if (next.visited) continue\n",
    "      \n",
    "      next.prev_axi = [Math.abs(x), Math.abs(y)]\n",
    "      \n",
    "      const f = pos.g(next) + next.h\n",
    "      \n",
    "      const k = y*1000+x\n",
    "      \n",
    "      if (f >= 10000) continue\n",
    "      next.cost = pos.g(next)\n",
    "      \n",
    "      if(nodes.hasOwnProperty(k)){\n",
    "        const old = nodes[k].f\n",
    "\n",
    "        if( old > f){\n",
    "          next.prev = pos\n",
    "          nodes[k].f = f\n",
    "          nodes[k].prev = pos\n",
    "        }\n",
    "      }else{ \n",
    "        next.prev = pos\n",
    "        nodes[k] = {\n",
    "          f,\n",
    "          node: next,\n",
    "          prev: pos\n",
    "        }\n",
    "      }\n",
    "    }\n",
    "    pos.visited = true\n",
    "\n",
    "    delete nodes[pos.key]\n",
    "\n",
    "    const arr = Object.entries(nodes)\n",
    "\n",
    "    if (arr.length == 0){\n",
    "      empty = true\n",
    "      break\n",
    "    }\n",
    "    pos = arr.reduce((prev, curr)=>{\n",
    "      return prev[1].f < curr[1].f ? prev : curr\n",
    "      \n",
    "    })[1].node\n",
    "    if (pos.type == 'end') break\n",
    "    \n",
    "  }\n",
    "  let step = 0\n",
    "\n",
    "  if (empty) return null\n",
    "  \n",
    "  while (true) {\n",
    "    pos.path = true\n",
    "    if (pos.type == 'start') break\n",
    "    step++\n",
    "    pos = pos.prev\n",
    "  }\n",
    "  let text = '<span style=\"font-family:\\'Lucida Console\\', monospace\">'\n",
    "  for (const [i,y] of maps.entries()){\n",
    "    for (const [j,x] of y.entries()){\n",
    "      if(x){\n",
    "        if(x.path){\n",
    "          text = text + '<span style=\"color:red;\">' + data[i][j] + '</span>'\n",
    "          continue\n",
    "        }\n",
    "      }\n",
    "      text += data[i][j]\n",
    "    }\n",
    "    text += '\\n'\n",
    "  }\n",
    "  text += '</span>'\n",
    "  fs.writeFile('./result.html', text)\n",
    "  return step\n",
    "}\n",
    "\n",
    "aStar()"
   ]
  },
  {
   "cell_type": "markdown",
   "metadata": {},
   "source": [
    "# Parte 2"
   ]
  },
  {
   "cell_type": "code",
   "execution_count": 6,
   "metadata": {},
   "outputs": [
    {
     "data": {
      "text/plain": [
       "[\n",
       "  [ 0, 0 ],  [ 1, 0 ],  [ 2, 0 ],  [ 3, 0 ],\n",
       "  [ 4, 0 ],  [ 5, 0 ],  [ 6, 0 ],  [ 7, 0 ],\n",
       "  [ 8, 0 ],  [ 9, 0 ],  [ 10, 0 ], [ 11, 0 ],\n",
       "  [ 12, 0 ], [ 13, 0 ], [ 14, 0 ], [ 15, 0 ],\n",
       "  [ 16, 0 ], [ 17, 0 ], [ 18, 0 ], [ 19, 0 ],\n",
       "  [ 20, 0 ], [ 21, 0 ], [ 22, 0 ], [ 23, 0 ],\n",
       "  [ 24, 0 ], [ 25, 0 ], [ 26, 0 ], [ 27, 0 ],\n",
       "  [ 28, 0 ], [ 29, 0 ], [ 30, 0 ], [ 31, 0 ],\n",
       "  [ 32, 0 ], [ 33, 0 ], [ 34, 0 ], [ 35, 0 ],\n",
       "  [ 36, 0 ], [ 37, 0 ], [ 38, 0 ], [ 39, 0 ],\n",
       "  [ 40, 0 ]\n",
       "]"
      ]
     },
     "execution_count": 6,
     "metadata": {},
     "output_type": "execute_result"
    }
   ],
   "source": [
    "var a = []\n",
    "\n",
    "for (let i = 0; i < data.length; i++){\n",
    "  a.push([i,0])\n",
    "}\n",
    "a"
   ]
  },
  {
   "cell_type": "code",
   "execution_count": 7,
   "metadata": {},
   "outputs": [
    {
     "data": {
      "text/plain": [
       "512"
      ]
     },
     "execution_count": 7,
     "metadata": {},
     "output_type": "execute_result"
    }
   ],
   "source": [
    "a.map(n=>{\n",
    "  start = n\n",
    "  // console.log(start)\n",
    "  return aStar()\n",
    "}).reduce((a,b)=> a<b? a : b)"
   ]
  }
 ],
 "metadata": {
  "kernelspec": {
   "display_name": "JavaScript (Node.js)",
   "language": "javascript",
   "name": "javascript"
  },
  "language_info": {
   "file_extension": ".js",
   "mimetype": "application/javascript",
   "name": "javascript",
   "version": "18.12.1"
  },
  "orig_nbformat": 4
 },
 "nbformat": 4,
 "nbformat_minor": 2
}
