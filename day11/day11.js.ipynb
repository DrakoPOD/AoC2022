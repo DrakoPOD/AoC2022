{
 "cells": [
  {
   "cell_type": "code",
   "execution_count": 1,
   "metadata": {},
   "outputs": [],
   "source": [
    "var fs = require('fs')"
   ]
  },
  {
   "cell_type": "code",
   "execution_count": 2,
   "metadata": {},
   "outputs": [],
   "source": [
    "var raw\n",
    "var data = {}\n",
    "\n",
    "fs.readFile('./data-11.txt','utf8',(err,file)=>{\n",
    "  if (err) throw err\n",
    "  raw = file\n",
    "})\n"
   ]
  },
  {
   "cell_type": "code",
   "execution_count": 3,
   "metadata": {},
   "outputs": [],
   "source": [
    "raw.split('\\r\\n\\r\\n').map(x=>x.split('\\r\\n').map(y=> y.replace(/\\s/g,'').split(':'))).forEach(x => {\n",
    "  data[x[0][0]] = {\n",
    "    items: x[1][1].split(',').map(Number),\n",
    "    operation: eval(`(old)=>${x[2][1].replace('new=','')}`),\n",
    "    test: function () {\n",
    "      let level = Math.floor(this.operation(this.items[0]) / 3) \n",
    "      let item  = this.items.shift()\n",
    "      this.inspection++\n",
    "      \n",
    "      if(level % this.condition == 0){\n",
    "        return [this.truty, level]\n",
    "      }\n",
    "      return [this.falsy, level]\n",
    "    },\n",
    "    condition: Number(x[3][1].replace('divisibleby','')),\n",
    "    inspection: 0,\n",
    "    truty: x[4][1].replace('throwto','').replace('m','M'),\n",
    "    falsy: x[5][1].replace('throwto','').replace('m','M')\n",
    "  }\n",
    "});"
   ]
  },
  {
   "cell_type": "code",
   "execution_count": 4,
   "metadata": {},
   "outputs": [
    {
     "data": {
      "text/plain": [
       "{\n",
       "  Monkey0: {\n",
       "    items: [\n",
       "      83, 88, 96, 79,\n",
       "      86, 88, 70\n",
       "    ],\n",
       "    operation: [Function (anonymous)],\n",
       "    test: [Function: test],\n",
       "    condition: 11,\n",
       "    inspection: 0,\n",
       "    truty: 'Monkey2',\n",
       "    falsy: 'Monkey3'\n",
       "  },\n",
       "  Monkey1: {\n",
       "    items: [ 59, 63, 98, 85, 68, 72 ],\n",
       "    operation: [Function (anonymous)],\n",
       "    test: [Function: test],\n",
       "    condition: 5,\n",
       "    inspection: 0,\n",
       "    truty: 'Monkey4',\n",
       "    falsy: 'Monkey0'\n",
       "  },\n",
       "  Monkey2: {\n",
       "    items: [\n",
       "      90, 79, 97, 52,\n",
       "      90, 94, 71, 70\n",
       "    ],\n",
       "    operation: [Function (anonymous)],\n",
       "    test: [Function: test],\n",
       "    condition: 19,\n",
       "    inspection: 0,\n",
       "    truty: 'Monkey5',\n",
       "    falsy: 'Monkey6'\n",
       "  },\n",
       "  Monkey3: {\n",
       "    items: [ 97, 55, 62 ],\n",
       "    operation: [Function (anonymous)],\n",
       "    test: [Function: test],\n",
       "    condition: 13,\n",
       "    inspection: 0,\n",
       "    truty: 'Monkey2',\n",
       "    falsy: 'Monkey6'\n",
       "  },\n",
       "  Monkey4: {\n",
       "    items: [ 74, 54, 94, 76 ],\n",
       "    operation: [Function (anonymous)],\n",
       "    test: [Function: test],\n",
       "    condition: 7,\n",
       "    inspection: 0,\n",
       "    truty: 'Monkey0',\n",
       "    falsy: 'Monkey3'\n",
       "  },\n",
       "  Monkey5: {\n",
       "    items: [ 58 ],\n",
       "    operation: [Function (anonymous)],\n",
       "    test: [Function: test],\n",
       "    condition: 17,\n",
       "    inspection: 0,\n",
       "    truty: 'Monkey7',\n",
       "    falsy: 'Monkey1'\n",
       "  },\n",
       "  Monkey6: {\n",
       "    items: [ 66, 63 ],\n",
       "    operation: [Function (anonymous)],\n",
       "    test: [Function: test],\n",
       "    condition: 2,\n",
       "    inspection: 0,\n",
       "    truty: 'Monkey7',\n",
       "    falsy: 'Monkey5'\n",
       "  },\n",
       "  Monkey7: {\n",
       "    items: [ 56, 56, 90, 96, 68 ],\n",
       "    operation: [Function (anonymous)],\n",
       "    test: [Function: test],\n",
       "    condition: 3,\n",
       "    inspection: 0,\n",
       "    truty: 'Monkey4',\n",
       "    falsy: 'Monkey1'\n",
       "  }\n",
       "}"
      ]
     },
     "execution_count": 4,
     "metadata": {},
     "output_type": "execute_result"
    }
   ],
   "source": [
    "data"
   ]
  },
  {
   "cell_type": "code",
   "execution_count": 5,
   "metadata": {},
   "outputs": [
    {
     "data": {
      "text/plain": [
       "[\n",
       "  [\n",
       "    83, 88, 96, 79,\n",
       "    86, 88, 70\n",
       "  ],\n",
       "  [ 59, 63, 98, 85, 68, 72 ],\n",
       "  [\n",
       "    90, 79, 97, 52,\n",
       "    90, 94, 71, 70\n",
       "  ],\n",
       "  [ 97, 55, 62 ],\n",
       "  [ 74, 54, 94, 76 ],\n",
       "  [ 58 ],\n",
       "  [ 66, 63 ],\n",
       "  [ 56, 56, 90, 96, 68 ]\n",
       "]"
      ]
     },
     "execution_count": 5,
     "metadata": {},
     "output_type": "execute_result"
    }
   ],
   "source": [
    "var items = []\n",
    "for (key in data){\n",
    "  items.push(data[key].items)\n",
    "}\n",
    "\n",
    "items"
   ]
  },
  {
   "cell_type": "code",
   "execution_count": 6,
   "metadata": {},
   "outputs": [],
   "source": [
    "var monkeys = data"
   ]
  },
  {
   "cell_type": "code",
   "execution_count": 7,
   "metadata": {},
   "outputs": [
    {
     "data": {
      "text/plain": [
       "10"
      ]
     },
     "execution_count": 7,
     "metadata": {},
     "output_type": "execute_result"
    }
   ],
   "source": [
    "for(let i = 0; i < 20; i++){\n",
    "  let current = []\n",
    "  for (key in monkeys){\n",
    "    let len = monkeys[key].items.length\n",
    "    for(let j = 0; j < len; j++){\n",
    "      let [monkey,item] = monkeys[key].test()\n",
    "      monkeys[monkey].items.push(item)\n",
    "    }\n",
    "  }\n",
    "  // for (key in monkeys){\n",
    "  //   current.push(monkeys[key].items)\n",
    "  // }\n",
    "  // console.log(current)\n",
    "}"
   ]
  },
  {
   "cell_type": "code",
   "execution_count": 8,
   "metadata": {},
   "outputs": [
    {
     "data": {
      "text/plain": [
       "64032"
      ]
     },
     "execution_count": 8,
     "metadata": {},
     "output_type": "execute_result"
    }
   ],
   "source": [
    "var inspections = []\n",
    "items = []\n",
    "for (key in data){\n",
    "  inspections.push(data[key].inspection)\n",
    "  items.push(data[key].items)\n",
    "}\n",
    "\n",
    "inspections.sort((a,b)=>b-a).splice(0,2).reduce((n,t)=> n*t,1)"
   ]
  },
  {
   "cell_type": "markdown",
   "metadata": {},
   "source": [
    "# Parte 2"
   ]
  },
  {
   "cell_type": "code",
   "execution_count": 9,
   "metadata": {},
   "outputs": [],
   "source": [
    "raw.split('\\r\\n\\r\\n').map(x=>x.split('\\r\\n').map(y=> y.replace(/\\s/g,'').split(':'))).forEach(x => {\n",
    "  data[x[0][0]] = {\n",
    "    items: x[1][1].split(',').map(x=> Number(x)),\n",
    "    operation: eval(`(old)=>${x[2][1].replace('new=','')}`),\n",
    "    test: function (divisor) {\n",
    "      //let level = Math.floor(this.operation(this.items[0]) / 3) \n",
    "      let level = this.operation(this.items[0])\n",
    "      let item  = this.items.shift()\n",
    "      this.inspection++\n",
    "      level = level % divisor\n",
    "      \n",
    "      if(level % this.condition == 0){\n",
    "        return [this.truty, level]\n",
    "      }\n",
    "      return [this.falsy, level]\n",
    "    },\n",
    "    condition: Number(x[3][1].replace('divisibleby','')),\n",
    "    inspection: 0,\n",
    "    truty: x[4][1].replace('throwto','').replace('m','M'),\n",
    "    falsy: x[5][1].replace('throwto','').replace('m','M')\n",
    "  }\n",
    "});"
   ]
  },
  {
   "cell_type": "code",
   "execution_count": 10,
   "metadata": {},
   "outputs": [
    {
     "data": {
      "text/plain": [
       "2"
      ]
     },
     "execution_count": 10,
     "metadata": {},
     "output_type": "execute_result"
    }
   ],
   "source": [
    "var divisor = []\n",
    "for (key in monkeys){\n",
    "  divisor.push(monkeys[key].condition)\n",
    "}\n",
    "\n",
    "divisor = divisor.reduce((n,t)=> n * t,1)\n",
    "\n",
    "for(let i = 0; i < 10000; i++){\n",
    "  let current = []\n",
    "  for (key in monkeys){\n",
    "    let len = monkeys[key].items.length\n",
    "    for(let j = 0; j < len; j++){\n",
    "      let [monkey,item] = monkeys[key].test(divisor)\n",
    "      monkeys[monkey].items.push(item)\n",
    "    }\n",
    "  }\n",
    "  // for (key in monkeys){\n",
    "  //   current.push(monkeys[key].items)\n",
    "  // }\n",
    "  // console.log(current)\n",
    "}"
   ]
  },
  {
   "cell_type": "code",
   "execution_count": 11,
   "metadata": {},
   "outputs": [
    {
     "data": {
      "text/plain": [
       "12729522272"
      ]
     },
     "execution_count": 11,
     "metadata": {},
     "output_type": "execute_result"
    }
   ],
   "source": [
    "var inspections = []\n",
    "items = []\n",
    "for (key in data){\n",
    "  inspections.push(data[key].inspection)\n",
    "  items.push(data[key].items)\n",
    "}\n",
    "\n",
    "inspections.sort((a,b)=>b-a).splice(0,2).reduce((n,t)=> n*t,1)"
   ]
  }
 ],
 "metadata": {
  "kernelspec": {
   "display_name": "JavaScript (Node.js)",
   "language": "javascript",
   "name": "javascript"
  },
  "language_info": {
   "file_extension": ".js",
   "mimetype": "application/javascript",
   "name": "javascript",
   "version": "18.12.1"
  },
  "orig_nbformat": 4,
  "vscode": {
   "interpreter": {
    "hash": "ad2bdc8ecc057115af97d19610ffacc2b4e99fae6737bb82f5d7fb13d2f2c186"
   }
  }
 },
 "nbformat": 4,
 "nbformat_minor": 2
}
