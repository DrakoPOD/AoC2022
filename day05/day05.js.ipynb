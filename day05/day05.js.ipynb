{
 "cells": [
  {
   "cell_type": "code",
   "execution_count": 3,
   "metadata": {},
   "outputs": [],
   "source": [
    "const fs = require('fs');\n",
    "var data1;\n",
    "var raw;"
   ]
  },
  {
   "cell_type": "code",
   "execution_count": 4,
   "metadata": {},
   "outputs": [],
   "source": [
    "fs.readFile('./data-05.txt','utf8', (err,data)=>{\n",
    "  if(err){\n",
    "    console.log(err);\n",
    "    return\n",
    "  }\n",
    "  raw = data\n",
    "})\n",
    "raw"
   ]
  },
  {
   "cell_type": "code",
   "execution_count": 5,
   "metadata": {},
   "outputs": [
    {
     "name": "stdout",
     "output_type": "stream",
     "text": [
      "┌─────────┬─────┬──────┬──────┬──────┬─────┬──────┬─────┬──────┬──────┐\n",
      "│ (index) │  0  │  1   │  2   │  3   │  4  │  5   │  6  │  7   │  8   │\n",
      "├─────────┼─────┼──────┼──────┼──────┼─────┼──────┼─────┼──────┼──────┤\n",
      "│    0    │ 'T' │ null │ null │ null │ 'P' │ null │ 'J' │ null │ null │\n",
      "│    1    │ 'F' │ null │ 'S'  │ null │ 'T' │ null │ 'R' │ null │ 'B'  │\n",
      "│    2    │ 'V' │ null │ 'M'  │ 'H'  │ 'S' │ null │ 'F' │ null │ 'R'  │\n",
      "│    3    │ 'Z' │ null │ 'P'  │ 'Q'  │ 'B' │ null │ 'S' │ 'W'  │ 'P'  │\n",
      "│    4    │ 'C' │ null │ 'Q'  │ 'R'  │ 'D' │ 'Z'  │ 'N' │ 'H'  │ 'Q'  │\n",
      "│    5    │ 'W' │ 'B'  │ 'T'  │ 'F'  │ 'L' │ 'T'  │ 'M' │ 'F'  │ 'T'  │\n",
      "│    6    │ 'S' │ 'R'  │ 'Z'  │ 'V'  │ 'G' │ 'R'  │ 'Q' │ 'N'  │ 'Z'  │\n",
      "│    7    │ 'Q' │ 'Q'  │ 'B'  │ 'D'  │ 'J' │ 'W'  │ 'H' │ 'R'  │ 'J'  │\n",
      "└─────────┴─────┴──────┴──────┴──────┴─────┴──────┴─────┴──────┴──────┘\n"
     ]
    }
   ],
   "source": [
    "data1 = raw.split('\\r\\n\\r\\n').map(x=> x.split('\\r\\n'))\n",
    "var stacks_num = data1[0].pop().replace(/\\s{3}/g,',').split(',').map(Number)\n",
    "\n",
    "var raw_stacks = data1[0].map(x=>x.replace(/\\[/g,'').replace(/\\]\\s/g,',').replace(/\\]/g,'').replace(/\\s{4}/g,',').replace(/\\s/g,'').split(',').map(y=> y == '' ? null : y))\n",
    "\n",
    "var moves = data1[1].map(x=> x.replace('move ','').replace('from ','').replace('to ','').split(' ').map(Number))\n",
    "\n",
    "console.table(raw_stacks)"
   ]
  },
  {
   "cell_type": "code",
   "execution_count": 6,
   "metadata": {},
   "outputs": [
    {
     "name": "stdout",
     "output_type": "stream",
     "text": [
      "┌─────────┬─────┬─────┬─────┬─────┬─────┬─────┬─────┬─────┐\n",
      "│ (index) │  0  │  1  │  2  │  3  │  4  │  5  │  6  │  7  │\n",
      "├─────────┼─────┼─────┼─────┼─────┼─────┼─────┼─────┼─────┤\n",
      "│    0    │ 'Q' │ 'S' │ 'W' │ 'C' │ 'Z' │ 'V' │ 'F' │ 'T' │\n",
      "│    1    │ 'Q' │ 'R' │ 'B' │     │     │     │     │     │\n",
      "│    2    │ 'B' │ 'Z' │ 'T' │ 'Q' │ 'P' │ 'M' │ 'S' │     │\n",
      "│    3    │ 'D' │ 'V' │ 'F' │ 'R' │ 'Q' │ 'H' │     │     │\n",
      "│    4    │ 'J' │ 'G' │ 'L' │ 'D' │ 'B' │ 'S' │ 'T' │ 'P' │\n",
      "│    5    │ 'W' │ 'R' │ 'T' │ 'Z' │     │     │     │     │\n",
      "│    6    │ 'H' │ 'Q' │ 'M' │ 'N' │ 'S' │ 'F' │ 'R' │ 'J' │\n",
      "│    7    │ 'R' │ 'N' │ 'F' │ 'H' │ 'W' │     │     │     │\n",
      "│    8    │ 'J' │ 'Z' │ 'T' │ 'Q' │ 'P' │ 'R' │ 'B' │     │\n",
      "└─────────┴─────┴─────┴─────┴─────┴─────┴─────┴─────┴─────┘\n"
     ]
    }
   ],
   "source": [
    "var stacks = [] \n",
    "for (var i = raw_stacks.length - 1; i >=0; i--) {\n",
    "  \n",
    "  const element = raw_stacks[i];\n",
    "  for ([k,box] of element.entries()){\n",
    "    if(!stacks[k]) stacks[k] = []\n",
    "    if(!box) continue\n",
    "    stacks[k].push(box)\n",
    "  }\n",
    "}\n",
    "\n",
    "console.table(stacks)\n"
   ]
  },
  {
   "cell_type": "code",
   "execution_count": 7,
   "metadata": {},
   "outputs": [
    {
     "name": "stdout",
     "output_type": "stream",
     "text": [
      "┌─────────┬─────┬─────┬─────┬─────┬─────┬─────┬─────┬─────┬─────┬─────┬─────┬─────┬─────┬─────┬─────┬─────┬─────┬─────┬─────┬─────┬─────┬─────┬─────┬─────┬─────┬─────┬─────┐\n",
      "│ (index) │  0  │  1  │  2  │  3  │  4  │  5  │  6  │  7  │  8  │  9  │ 10  │ 11  │ 12  │ 13  │ 14  │ 15  │ 16  │ 17  │ 18  │ 19  │ 20  │ 21  │ 22  │ 23  │ 24  │ 25  │ 26  │\n",
      "├─────────┼─────┼─────┼─────┼─────┼─────┼─────┼─────┼─────┼─────┼─────┼─────┼─────┼─────┼─────┼─────┼─────┼─────┼─────┼─────┼─────┼─────┼─────┼─────┼─────┼─────┼─────┼─────┤\n",
      "│    0    │ 'B' │     │     │     │     │     │     │     │     │     │     │     │     │     │     │     │     │     │     │     │     │     │     │     │     │     │     │\n",
      "│    1    │ 'Z' │     │     │     │     │     │     │     │     │     │     │     │     │     │     │     │     │     │     │     │     │     │     │     │     │     │     │\n",
      "│    2    │ 'H' │ 'T' │ 'M' │ 'T' │ 'G' │ 'R' │ 'J' │ 'R' │ 'L' │     │     │     │     │     │     │     │     │     │     │     │     │     │     │     │     │     │     │\n",
      "│    3    │ 'T' │ 'V' │     │     │     │     │     │     │     │     │     │     │     │     │     │     │     │     │     │     │     │     │     │     │     │     │     │\n",
      "│    4    │ 'W' │ 'C' │ 'R' │ 'H' │     │     │     │     │     │     │     │     │     │     │     │     │     │     │     │     │     │     │     │     │     │     │     │\n",
      "│    5    │ 'Q' │ 'B' │ 'H' │ 'B' │ 'J' │ 'Q' │ 'R' │ 'B' │     │     │     │     │     │     │     │     │     │     │     │     │     │     │     │     │     │     │     │\n",
      "│    6    │ 'Q' │ 'F' │ 'P' │ 'T' │ 'N' │ 'W' │ 'S' │ 'N' │ 'J' │ 'S' │ 'F' │ 'S' │ 'Z' │ 'D' │ 'Z' │ 'T' │ 'Z' │ 'F' │ 'Q' │ 'M' │ 'Q' │ 'R' │ 'V' │ 'D' │ 'S' │ 'P' │ 'W' │\n",
      "│    7    │ 'Q' │     │     │     │     │     │     │     │     │     │     │     │     │     │     │     │     │     │     │     │     │     │     │     │     │     │     │\n",
      "│    8    │ 'P' │ 'R' │ 'F' │     │     │     │     │     │     │     │     │     │     │     │     │     │     │     │     │     │     │     │     │     │     │     │     │\n",
      "└─────────┴─────┴─────┴─────┴─────┴─────┴─────┴─────┴─────┴─────┴─────┴─────┴─────┴─────┴─────┴─────┴─────┴─────┴─────┴─────┴─────┴─────┴─────┴─────┴─────┴─────┴─────┴─────┘\n"
     ]
    }
   ],
   "source": [
    "var new_stacks = JSON.parse(JSON.stringify(stacks))\n",
    "for(move of moves) {\n",
    "  const [amount, from_stack, to_stack] = move \n",
    "  for(var i = 0; i < amount; i++){\n",
    "    const item = new_stacks[from_stack - 1].pop()\n",
    "    new_stacks[to_stack - 1].push(item)\n",
    "  }\n",
    "}\n",
    "\n",
    "console.table(new_stacks)"
   ]
  },
  {
   "cell_type": "code",
   "execution_count": 8,
   "metadata": {},
   "outputs": [
    {
     "data": {
      "text/plain": [
       "'BZLVHBWQF'"
      ]
     },
     "execution_count": 8,
     "metadata": {},
     "output_type": "execute_result"
    }
   ],
   "source": [
    "new_stacks.map(x=> x.at(-1)).filter(x=> x).flat().reduce((n,o)=> n + o, '')"
   ]
  },
  {
   "cell_type": "markdown",
   "metadata": {},
   "source": [
    "# Parte 2"
   ]
  },
  {
   "cell_type": "code",
   "execution_count": 9,
   "metadata": {},
   "outputs": [
    {
     "name": "stdout",
     "output_type": "stream",
     "text": [
      "┌─────────┬─────┬─────┬─────┬─────┬─────┬─────┬─────┬─────┬─────┬─────┬─────┬─────┬─────┬─────┬─────┬─────┬─────┬─────┬─────┬─────┬─────┬─────┬─────┬─────┬─────┬─────┬─────┐\n",
      "│ (index) │  0  │  1  │  2  │  3  │  4  │  5  │  6  │  7  │  8  │  9  │ 10  │ 11  │ 12  │ 13  │ 14  │ 15  │ 16  │ 17  │ 18  │ 19  │ 20  │ 21  │ 22  │ 23  │ 24  │ 25  │ 26  │\n",
      "├─────────┼─────┼─────┼─────┼─────┼─────┼─────┼─────┼─────┼─────┼─────┼─────┼─────┼─────┼─────┼─────┼─────┼─────┼─────┼─────┼─────┼─────┼─────┼─────┼─────┼─────┼─────┼─────┤\n",
      "│    0    │ 'T' │     │     │     │     │     │     │     │     │     │     │     │     │     │     │     │     │     │     │     │     │     │     │     │     │     │     │\n",
      "│    1    │ 'D' │     │     │     │     │     │     │     │     │     │     │     │     │     │     │     │     │     │     │     │     │     │     │     │     │     │     │\n",
      "│    2    │ 'B' │ 'N' │ 'F' │ 'R' │ 'R' │ 'V' │ 'B' │ 'S' │ 'G' │     │     │     │     │     │     │     │     │     │     │     │     │     │     │     │     │     │     │\n",
      "│    3    │ 'R' │ 'J' │     │     │     │     │     │     │     │     │     │     │     │     │     │     │     │     │     │     │     │     │     │     │     │     │     │\n",
      "│    4    │ 'F' │ 'M' │ 'S' │ 'Q' │     │     │     │     │     │     │     │     │     │     │     │     │     │     │     │     │     │     │     │     │     │     │     │\n",
      "│    5    │ 'W' │ 'Q' │ 'B' │ 'J' │ 'Z' │ 'R' │ 'H' │ 'T' │     │     │     │     │     │     │     │     │     │     │     │     │     │     │     │     │     │     │     │\n",
      "│    6    │ 'B' │ 'M' │ 'Q' │ 'F' │ 'J' │ 'Z' │ 'S' │ 'Q' │ 'Q' │ 'T' │ 'D' │ 'T' │ 'V' │ 'N' │ 'P' │ 'R' │ 'P' │ 'H' │ 'T' │ 'W' │ 'F' │ 'C' │ 'P' │ 'H' │ 'W' │ 'R' │ 'Z' │\n",
      "│    7    │ 'S' │     │     │     │     │     │     │     │     │     │     │     │     │     │     │     │     │     │     │     │     │     │     │     │     │     │     │\n",
      "│    8    │ 'Q' │ 'Z' │ 'L' │     │     │     │     │     │     │     │     │     │     │     │     │     │     │     │     │     │     │     │     │     │     │     │     │\n",
      "└─────────┴─────┴─────┴─────┴─────┴─────┴─────┴─────┴─────┴─────┴─────┴─────┴─────┴─────┴─────┴─────┴─────┴─────┴─────┴─────┴─────┴─────┴─────┴─────┴─────┴─────┴─────┴─────┘\n"
     ]
    }
   ],
   "source": [
    "var second_stack = JSON.parse(JSON.stringify(stacks))\n",
    "\n",
    "for(move of moves) {\n",
    "  const [amount, from_stack, to_stack] = move \n",
    "    const item = second_stack[from_stack - 1].splice(second_stack[from_stack-1].length - amount)\n",
    "\n",
    "    second_stack[to_stack - 1].push(...item)\n",
    "}\n",
    "console.table(second_stack)"
   ]
  },
  {
   "cell_type": "code",
   "execution_count": 10,
   "metadata": {},
   "outputs": [
    {
     "data": {
      "text/plain": [
       "'TDGJQTZSL'"
      ]
     },
     "execution_count": 10,
     "metadata": {},
     "output_type": "execute_result"
    }
   ],
   "source": [
    "second_stack.map(x=> x.at(-1)).flat().reduce((n,o)=> n + o, '')"
   ]
  }
 ],
 "metadata": {
  "kernelspec": {
   "display_name": "JavaScript (Node.js)",
   "language": "javascript",
   "name": "javascript"
  },
  "language_info": {
   "file_extension": ".js",
   "mimetype": "application/javascript",
   "name": "javascript",
   "version": "18.12.1"
  },
  "orig_nbformat": 4,
  "vscode": {
   "interpreter": {
    "hash": "ad2bdc8ecc057115af97d19610ffacc2b4e99fae6737bb82f5d7fb13d2f2c186"
   }
  }
 },
 "nbformat": 4,
 "nbformat_minor": 2
}
