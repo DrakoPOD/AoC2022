{
 "cells": [
  {
   "cell_type": "code",
   "execution_count": 1,
   "metadata": {},
   "outputs": [],
   "source": [
    "const fs = require('fs');\n",
    "var data1;"
   ]
  },
  {
   "cell_type": "code",
   "execution_count": 2,
   "metadata": {},
   "outputs": [],
   "source": [
    "fs.readFile('./data-02.txt','utf8', (err,data)=>{\n",
    "  if(err){\n",
    "    console.log(err);\n",
    "    return\n",
    "  }\n",
    "  data1 = data\n",
    "})\n",
    "data1"
   ]
  },
  {
   "cell_type": "code",
   "execution_count": 3,
   "metadata": {},
   "outputs": [
    {
     "data": {
      "text/plain": [
       "[\n",
       "  [ 'C', 'X' ], [ 'C', 'X' ], [ 'C', 'X' ], [ 'A', 'Z' ], [ 'C', 'X' ],\n",
       "  [ 'C', 'Z' ], [ 'C', 'X' ], [ 'B', 'Y' ], [ 'C', 'X' ], [ 'C', 'X' ],\n",
       "  [ 'C', 'X' ], [ 'B', 'Y' ], [ 'C', 'X' ], [ 'B', 'Z' ], [ 'C', 'Z' ],\n",
       "  [ 'C', 'X' ], [ 'C', 'X' ], [ 'C', 'Z' ], [ 'C', 'Z' ], [ 'B', 'Y' ],\n",
       "  [ 'C', 'Z' ], [ 'C', 'X' ], [ 'B', 'Z' ], [ 'C', 'X' ], [ 'C', 'X' ],\n",
       "  [ 'C', 'X' ], [ 'B', 'Y' ], [ 'C', 'Z' ], [ 'B', 'Z' ], [ 'C', 'X' ],\n",
       "  [ 'B', 'Y' ], [ 'C', 'Z' ], [ 'A', 'Y' ], [ 'C', 'X' ], [ 'B', 'Y' ],\n",
       "  [ 'A', 'Y' ], [ 'C', 'X' ], [ 'C', 'Y' ], [ 'C', 'X' ], [ 'C', 'Z' ],\n",
       "  [ 'C', 'X' ], [ 'C', 'X' ], [ 'A', 'Y' ], [ 'C', 'X' ], [ 'C', 'X' ],\n",
       "  [ 'B', 'Y' ], [ 'B', 'Y' ], [ 'C', 'X' ], [ 'C', 'X' ], [ 'B', 'Y' ],\n",
       "  [ 'C', 'Z' ], [ 'B', 'Y' ], [ 'B', 'Y' ], [ 'C', 'X' ], [ 'C', 'X' ],\n",
       "  [ 'C', 'Y' ], [ 'B', 'X' ], [ 'C', 'X' ], [ 'C', 'X' ], [ 'B', 'X' ],\n",
       "  [ 'C', 'Y' ], [ 'B', 'X' ], [ 'B', 'Y' ], [ 'C', 'X' ], [ 'C', 'Z' ],\n",
       "  [ 'B', 'Y' ], [ 'B', 'Y' ], [ 'B', 'Y' ], [ 'B', 'X' ], [ 'C', 'Z' ],\n",
       "  [ 'C', 'X' ], [ 'B', 'Y' ], [ 'C', 'X' ], [ 'A', 'Y' ], [ 'C', 'Z' ],\n",
       "  [ 'A', 'Y' ], [ 'C', 'Z' ], [ 'C', 'X' ], [ 'C', 'Z' ], [ 'B', 'Y' ],\n",
       "  [ 'B', 'X' ], [ 'C', 'X' ], [ 'B', 'Z' ], [ 'C', 'X' ], [ 'C', 'Y' ],\n",
       "  [ 'C', 'X' ], [ 'C', 'X' ], [ 'C', 'Z' ], [ 'C', 'Z' ], [ 'C', 'Z' ],\n",
       "  [ 'B', 'Z' ], [ 'C', 'Y' ], [ 'B', 'Y' ], [ 'B', 'Y' ], [ 'B', 'Y' ],\n",
       "  [ 'C', 'X' ], [ 'B', 'Y' ], [ 'C', 'Z' ], [ 'C', 'X' ], [ 'C', 'X' ],\n",
       "  ... 2400 more items\n",
       "]"
      ]
     },
     "execution_count": 3,
     "metadata": {},
     "output_type": "execute_result"
    }
   ],
   "source": [
    "data1 = data1.split('\\r\\n').map(x=> x.split(' '))\n",
    "data1"
   ]
  },
  {
   "cell_type": "code",
   "execution_count": 4,
   "metadata": {},
   "outputs": [],
   "source": [
    "function ppt(arr, part=false){\n",
    "  const N = arr[0]\n",
    "  let P = arr[1]\n",
    "\n",
    "  const win = {\n",
    "    A: {\n",
    "      X: 3,\n",
    "      Y: 6,\n",
    "      Z: 0\n",
    "    },\n",
    "    B: {\n",
    "      X: 0,\n",
    "      Y: 3,\n",
    "      Z: 6\n",
    "    },\n",
    "    C: {\n",
    "      X: 6,\n",
    "      Y: 0,\n",
    "      Z: 3\n",
    "    }\n",
    "  }\n",
    "\n",
    "  if (part){\n",
    "    const loose = {\n",
    "      X: {\n",
    "        A: 'Z',\n",
    "        B: 'X',\n",
    "        C: 'Y',\n",
    "      },\n",
    "      Y: {\n",
    "        A: 'X',\n",
    "        B: 'Y',\n",
    "        C: 'Z',\n",
    "      },\n",
    "      Z: {\n",
    "        A: 'Y',\n",
    "        B: 'Z',\n",
    "        C: 'X',\n",
    "      },\n",
    "    }\n",
    "    \n",
    "    P = loose[P][N]\n",
    "  }\n",
    "  \n",
    "  const points = {\n",
    "    X: 1,\n",
    "    Y: 2,\n",
    "    Z: 3\n",
    "  }\n",
    "\n",
    "  return win[N][P] + points[P]\n",
    "}"
   ]
  },
  {
   "cell_type": "code",
   "execution_count": 5,
   "metadata": {},
   "outputs": [
    {
     "data": {
      "text/plain": [
       "[\n",
       "  7, 7, 7, 3, 7, 6, 7, 5, 7, 7, 7, 5,\n",
       "  7, 9, 6, 7, 7, 6, 6, 5, 6, 7, 9, 7,\n",
       "  7, 7, 5, 6, 9, 7, 5, 6, 8, 7, 5, 8,\n",
       "  7, 2, 7, 6, 7, 7, 8, 7, 7, 5, 5, 7,\n",
       "  7, 5, 6, 5, 5, 7, 7, 2, 1, 7, 7, 1,\n",
       "  2, 1, 5, 7, 6, 5, 5, 5, 1, 6, 7, 5,\n",
       "  7, 8, 6, 8, 6, 7, 6, 5, 1, 7, 9, 7,\n",
       "  2, 7, 7, 6, 6, 6, 9, 2, 5, 5, 5, 7,\n",
       "  5, 6, 7, 7,\n",
       "  ... 2400 more items\n",
       "]"
      ]
     },
     "execution_count": 5,
     "metadata": {},
     "output_type": "execute_result"
    }
   ],
   "source": [
    "var total = data1.map(e => ppt(e));\n",
    "total"
   ]
  },
  {
   "cell_type": "code",
   "execution_count": 6,
   "metadata": {},
   "outputs": [
    {
     "data": {
      "text/plain": [
       "14375"
      ]
     },
     "execution_count": 6,
     "metadata": {},
     "output_type": "execute_result"
    }
   ],
   "source": [
    "total.reduce((a,t)=> a + t, 0)"
   ]
  },
  {
   "cell_type": "markdown",
   "metadata": {},
   "source": [
    "# Parte 2"
   ]
  },
  {
   "cell_type": "code",
   "execution_count": 7,
   "metadata": {},
   "outputs": [
    {
     "data": {
      "text/plain": [
       "[\n",
       "  2, 2, 2, 8, 2, 7, 2, 5, 2, 2, 2, 5,\n",
       "  2, 9, 7, 2, 2, 7, 7, 5, 7, 2, 9, 2,\n",
       "  2, 2, 5, 7, 9, 2, 5, 7, 4, 2, 5, 4,\n",
       "  2, 6, 2, 7, 2, 2, 4, 2, 2, 5, 5, 2,\n",
       "  2, 5, 7, 5, 5, 2, 2, 6, 1, 2, 2, 1,\n",
       "  6, 1, 5, 2, 7, 5, 5, 5, 1, 7, 2, 5,\n",
       "  2, 4, 7, 4, 7, 2, 7, 5, 1, 2, 9, 2,\n",
       "  6, 2, 2, 7, 7, 7, 9, 6, 5, 5, 5, 2,\n",
       "  5, 7, 2, 2,\n",
       "  ... 2400 more items\n",
       "]"
      ]
     },
     "execution_count": 7,
     "metadata": {},
     "output_type": "execute_result"
    }
   ],
   "source": [
    "var total2 = data1.map(x=>ppt(x,true))\n",
    "total2"
   ]
  },
  {
   "cell_type": "code",
   "execution_count": 8,
   "metadata": {},
   "outputs": [
    {
     "data": {
      "text/plain": [
       "10274"
      ]
     },
     "execution_count": 8,
     "metadata": {},
     "output_type": "execute_result"
    }
   ],
   "source": [
    "total2.reduce((a,t)=> a + t, 0)"
   ]
  }
 ],
 "metadata": {
  "kernelspec": {
   "display_name": "JavaScript (Node.js)",
   "language": "javascript",
   "name": "javascript"
  },
  "language_info": {
   "file_extension": ".js",
   "mimetype": "application/javascript",
   "name": "javascript",
   "version": "18.12.1"
  },
  "orig_nbformat": 4
 },
 "nbformat": 4,
 "nbformat_minor": 2
}
