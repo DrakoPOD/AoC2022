{
 "cells": [
  {
   "cell_type": "code",
   "execution_count": 1,
   "metadata": {},
   "outputs": [],
   "source": [
    "var fs = require('fs')"
   ]
  },
  {
   "cell_type": "code",
   "execution_count": 2,
   "metadata": {},
   "outputs": [],
   "source": [
    "var raw\n",
    "\n",
    "fs.readFile('./data-10.txt','utf8', (err,data)=>{\n",
    "  if(err) throw err\n",
    "\n",
    "  raw = data\n",
    "})\n",
    "raw"
   ]
  },
  {
   "cell_type": "code",
   "execution_count": 3,
   "metadata": {},
   "outputs": [
    {
     "data": {
      "text/plain": [
       "[\n",
       "  [ 'noop' ],        [ 'addx', '12' ],  [ 'addx', '-5' ],  [ 'addx', '-1' ],\n",
       "  [ 'noop' ],        [ 'addx', '4' ],   [ 'noop' ],        [ 'addx', '1' ],\n",
       "  [ 'addx', '4' ],   [ 'noop' ],        [ 'addx', '13' ],  [ 'addx', '-8' ],\n",
       "  [ 'noop' ],        [ 'addx', '-19' ], [ 'addx', '24' ],  [ 'addx', '1' ],\n",
       "  [ 'noop' ],        [ 'addx', '4' ],   [ 'noop' ],        [ 'addx', '1' ],\n",
       "  [ 'addx', '5' ],   [ 'addx', '-1' ],  [ 'addx', '-37' ], [ 'addx', '16' ],\n",
       "  [ 'addx', '-13' ], [ 'addx', '18' ],  [ 'addx', '-11' ], [ 'addx', '2' ],\n",
       "  [ 'addx', '23' ],  [ 'noop' ],        [ 'addx', '-18' ], [ 'addx', '9' ],\n",
       "  [ 'addx', '-8' ],  [ 'addx', '2' ],   [ 'addx', '5' ],   [ 'addx', '2' ],\n",
       "  [ 'addx', '-21' ], [ 'addx', '26' ],  [ 'noop' ],        [ 'addx', '-15' ],\n",
       "  [ 'addx', '20' ],  [ 'noop' ],        [ 'addx', '3' ],   [ 'noop' ],\n",
       "  [ 'addx', '-38' ], [ 'addx', '3' ],   [ 'noop' ],        [ 'addx', '26' ],\n",
       "  [ 'addx', '-4' ],  [ 'addx', '-19' ], [ 'addx', '3' ],   [ 'addx', '1' ],\n",
       "  [ 'addx', '5' ],   [ 'addx', '3' ],   [ 'noop' ],        [ 'addx', '2' ],\n",
       "  [ 'addx', '3' ],   [ 'noop' ],        [ 'addx', '2' ],   [ 'noop' ],\n",
       "  [ 'noop' ],        [ 'noop' ],        [ 'noop' ],        [ 'addx', '5' ],\n",
       "  [ 'noop' ],        [ 'noop' ],        [ 'noop' ],        [ 'addx', '3' ],\n",
       "  [ 'noop' ],        [ 'addx', '-30' ], [ 'addx', '-4' ],  [ 'addx', '1' ],\n",
       "  [ 'addx', '18' ],  [ 'addx', '-8' ],  [ 'addx', '-4' ],  [ 'addx', '2' ],\n",
       "  [ 'noop' ],        [ 'addx', '7' ],   [ 'noop' ],        [ 'noop' ],\n",
       "  [ 'noop' ],        [ 'noop' ],        [ 'addx', '5' ],   [ 'noop' ],\n",
       "  [ 'noop' ],        [ 'addx', '5' ],   [ 'addx', '-2' ],  [ 'addx', '-20' ],\n",
       "  [ 'addx', '27' ],  [ 'addx', '-20' ], [ 'addx', '25' ],  [ 'addx', '-2' ],\n",
       "  [ 'addx', '-35' ], [ 'noop' ],        [ 'noop' ],        [ 'addx', '4' ],\n",
       "  [ 'addx', '3' ],   [ 'addx', '-2' ],  [ 'addx', '5' ],   [ 'addx', '2' ],\n",
       "  ... 39 more items\n",
       "]"
      ]
     },
     "execution_count": 3,
     "metadata": {},
     "output_type": "execute_result"
    }
   ],
   "source": [
    "var data1 = raw.split('\\r\\n').map(x=>x.split(' '))\n",
    "data1"
   ]
  },
  {
   "cell_type": "code",
   "execution_count": 8,
   "metadata": {},
   "outputs": [
    {
     "data": {
      "text/plain": [
       "240"
      ]
     },
     "execution_count": 8,
     "metadata": {},
     "output_type": "execute_result"
    }
   ],
   "source": [
    "var signal = []\n",
    "var X = 1\n",
    "var cycle = 1\n",
    "var idx = 0\n",
    "var cmd = ''\n",
    "var progress = 0\n",
    "var task = true\n",
    "\n",
    "var CRT = ''\n",
    "var screen  = []\n",
    "var row = 0\n",
    "\n",
    "while (cycle <= 240){\n",
    "  if ((cycle - 20) % 40 == 0){\n",
    "    signal.push(cycle * X)\n",
    "  }\n",
    "\n",
    "  if ((row >= X-1) && (row <= (X+1))){\n",
    "    CRT += '██'\n",
    "  }else{\n",
    "    CRT += '░░'\n",
    "  }\n",
    "  row++\n",
    "\n",
    "  if (cycle % 40 == 0){\n",
    "    screen.push(CRT)\n",
    "    CRT = ''\n",
    "    row = 0\n",
    "  }\n",
    "  \n",
    "  if(task){\n",
    "    cmd = data1[idx][0]\n",
    "\n",
    "    if(cmd == 'addx'){\n",
    "      progress++\n",
    "      if(progress >= 2){\n",
    "        progress = 0\n",
    "        X += Number(data1[idx][1])\n",
    "        idx++\n",
    "      }\n",
    "    }else{\n",
    "      idx++\n",
    "    }\n",
    "  }\n",
    "\n",
    "\n",
    "\n",
    "  \n",
    "  cycle++\n",
    "}"
   ]
  },
  {
   "cell_type": "code",
   "execution_count": 5,
   "metadata": {},
   "outputs": [
    {
     "data": {
      "text/plain": [
       "14160"
      ]
     },
     "execution_count": 5,
     "metadata": {},
     "output_type": "execute_result"
    }
   ],
   "source": [
    "signal.reduce((n,t)=>n+t)"
   ]
  },
  {
   "cell_type": "code",
   "execution_count": 9,
   "metadata": {},
   "outputs": [
    {
     "name": "stdout",
     "output_type": "stream",
     "text": [
      "██████░░░░░░░░████░░████████░░██████░░░░██████░░░░████████░░████████░░░░████░░░░\n",
      "██░░░░██░░░░░░░░██░░██░░░░░░░░██░░░░██░░██░░░░██░░██░░░░░░░░██░░░░░░░░██░░░░██░░\n",
      "██░░░░██░░░░░░░░██░░██████░░░░██░░░░██░░██░░░░██░░██████░░░░██████░░░░██░░░░░░░░\n",
      "██████░░░░░░░░░░██░░██░░░░░░░░██████░░░░██████░░░░██░░░░░░░░██░░░░░░░░██░░░░░░░░\n",
      "██░░██░░░░██░░░░██░░██░░░░░░░░██░░██░░░░██░░░░░░░░██░░░░░░░░██░░░░░░░░██░░░░██░░\n",
      "██░░░░██░░░░████░░░░████████░░██░░░░██░░██░░░░░░░░████████░░██░░░░░░░░░░████░░░░\n"
     ]
    }
   ],
   "source": [
    "screen.forEach(x => {\n",
    "  console.log(x)\n",
    "});"
   ]
  }
 ],
 "metadata": {
  "kernelspec": {
   "display_name": "JavaScript (Node.js)",
   "language": "javascript",
   "name": "javascript"
  },
  "language_info": {
   "file_extension": ".js",
   "mimetype": "application/javascript",
   "name": "javascript",
   "version": "18.12.1"
  },
  "orig_nbformat": 4,
  "vscode": {
   "interpreter": {
    "hash": "ad2bdc8ecc057115af97d19610ffacc2b4e99fae6737bb82f5d7fb13d2f2c186"
   }
  }
 },
 "nbformat": 4,
 "nbformat_minor": 2
}
