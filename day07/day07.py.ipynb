{
 "cells": [
  {
   "cell_type": "code",
   "execution_count": 62,
   "metadata": {},
   "outputs": [],
   "source": [
    "import functools\n",
    "raw = ''"
   ]
  },
  {
   "cell_type": "code",
   "execution_count": 63,
   "metadata": {},
   "outputs": [],
   "source": [
    "with open('./example-07.txt','r') as file:\n",
    "    raw = file.read()\n"
   ]
  },
  {
   "cell_type": "code",
   "execution_count": 64,
   "metadata": {},
   "outputs": [
    {
     "data": {
      "text/plain": [
       "[['$', 'cd', '/'],\n",
       " ['$', 'ls'],\n",
       " ['dir', 'a'],\n",
       " ['14848514', 'b.txt'],\n",
       " ['8504156', 'c.dat'],\n",
       " ['dir', 'd'],\n",
       " ['$', 'cd', 'a'],\n",
       " ['$', 'ls'],\n",
       " ['dir', 'e'],\n",
       " ['29116', 'f'],\n",
       " ['2557', 'g'],\n",
       " ['62596', 'h.lst'],\n",
       " ['$', 'cd', 'e'],\n",
       " ['$', 'ls'],\n",
       " ['584', 'i'],\n",
       " ['$', 'cd', '..'],\n",
       " ['$', 'cd', '..'],\n",
       " ['$', 'cd', 'd'],\n",
       " ['$', 'ls'],\n",
       " ['4060174', 'j'],\n",
       " ['8033020', 'd.log'],\n",
       " ['5626152', 'd.ext'],\n",
       " ['7214296', 'k']]"
      ]
     },
     "execution_count": 64,
     "metadata": {},
     "output_type": "execute_result"
    }
   ],
   "source": [
    "data1 = [x.split(' ') for x in raw.split('\\n')]\n",
    "data1"
   ]
  },
  {
   "cell_type": "code",
   "execution_count": 65,
   "metadata": {},
   "outputs": [],
   "source": [
    "class Dir:\n",
    "    def __init__(self, name) -> None:\n",
    "        self.name = name\n",
    "        self.dirs = {}\n",
    "        self.files = {}\n",
    "\n",
    "    class File:\n",
    "        def __init__(self,name,size) -> None:\n",
    "            self.name = name\n",
    "            self.size = size\n",
    "\n",
    "        def __str__(self):\n",
    "            return f'{self.name} : {self.size}'\n",
    "            \n",
    "        def get_size(self) -> int:\n",
    "            return self.size\n",
    "\n",
    "        def get_max_size(self) -> int:\n",
    "            return self.size if self.size <= 100000 else 0\n",
    "        \n",
    "\n",
    "    def __str__(self) -> str:\n",
    "        return f'{self.name} : {self.dirs}'\n",
    "\n",
    "    def get_size(self) -> int:\n",
    "        total = 0\n",
    "\n",
    "        for _,dir in self.dirs.items():\n",
    "            total += dir.get_size()\n",
    "\n",
    "        for _,file in self.files.items():\n",
    "            total += file.get_size()\n",
    "\n",
    "        return total   \n",
    "\n",
    "    def get_max_size(self) -> int:\n",
    "        total = 0\n",
    "        local = 0\n",
    "\n",
    "        for _,dir in self.dirs.items():\n",
    "            local += dir.get_size()\n",
    "\n",
    "        for _,file in self.files.items():\n",
    "            local += file.get_size()\n",
    "\n",
    "        for _,dir in self.dirs.items():\n",
    "            total += dir.get_max_size()\n",
    "\n",
    "        if local <= 100000:\n",
    "            total += local\n",
    "        return total\n",
    "\n",
    "    def get_dir(self):\n",
    "        dirs = []\n",
    "        dirs.append(self.get_size())\n",
    "\n",
    "        for _,dir in self.dirs.items():\n",
    "            dirs = dirs + dir.get_dir()\n",
    "        \n",
    "        return dirs\n",
    "\n",
    "    def add_file(self, name, size) -> None:\n",
    "        self.files[name] = self.File(name,size)\n"
   ]
  },
  {
   "cell_type": "code",
   "execution_count": 66,
   "metadata": {},
   "outputs": [],
   "source": [
    "def scan(dir,name, DIR):\n",
    "    global idx\n",
    "    global line\n",
    "    global size\n",
    "    \n",
    "    total = 0\n",
    "    line= data1[idx]\n",
    "    if(line[0] == '$'):\n",
    "        if (line[1] == 'ls'):\n",
    "            while True:\n",
    "                idx += 1\n",
    "                if idx >= max: break\n",
    "                line = data1[idx]\n",
    "\n",
    "                if line[0] == '$': break\n",
    "                \n",
    "                if (line[0].isnumeric()):\n",
    "                    dir[line[1]] = int(line[0])\n",
    "                    \n",
    "                    DIR.add_file(line[1] , int(line[0]))\n",
    "\n",
    "                    if name == 'zrfmzrl': print(dir) \n",
    "                    total += int(line[0])\n",
    "                else:\n",
    "                    DIR.dirs[line[1]] = Dir(line[1])\n",
    "                    dir[line[1]] = dict()\n",
    "                \n",
    "\n",
    "    while idx < max:\n",
    "        line = data1[idx]\n",
    "        # if idx >= 15: print(line)\n",
    "        idx += 1\n",
    "        if line[1] == 'cd':\n",
    "            if line[2] == '..':\n",
    "                size[name] = total\n",
    "                return total\n",
    "            DIR.dirs[line[2]] = Dir(line[2])\n",
    "            total = total + scan(dir[line[2]], line[2], DIR.dirs[line[2]])\n",
    "            size[name] = total\n",
    "    size[name] = total\n",
    "    return total\n"
   ]
  },
  {
   "cell_type": "code",
   "execution_count": 67,
   "metadata": {
    "tags": [
     "test"
    ]
   },
   "outputs": [
    {
     "data": {
      "text/plain": [
       "48381165"
      ]
     },
     "execution_count": 67,
     "metadata": {},
     "output_type": "execute_result"
    }
   ],
   "source": [
    "dirs = {}\n",
    "dirs['/'] = {}\n",
    "size = {}\n",
    "idx = 1\n",
    "line = []\n",
    "max = len(data1)\n",
    "root = Dir('/')\n",
    "scan(dirs,'/', root)"
   ]
  },
  {
   "cell_type": "code",
   "execution_count": 68,
   "metadata": {},
   "outputs": [
    {
     "data": {
      "text/plain": [
       "95437"
      ]
     },
     "execution_count": 68,
     "metadata": {},
     "output_type": "execute_result"
    }
   ],
   "source": [
    "functools.reduce(lambda a,b: a+b,  list(filter(lambda x: x <= 100000,list(size.values()))))"
   ]
  },
  {
   "cell_type": "code",
   "execution_count": 69,
   "metadata": {},
   "outputs": [
    {
     "data": {
      "text/plain": [
       "95437"
      ]
     },
     "execution_count": 69,
     "metadata": {},
     "output_type": "execute_result"
    }
   ],
   "source": [
    "max_size = 0\n",
    "root.get_max_size()"
   ]
  },
  {
   "cell_type": "markdown",
   "metadata": {},
   "source": [
    "# Parte 2"
   ]
  },
  {
   "cell_type": "code",
   "execution_count": 70,
   "metadata": {},
   "outputs": [
    {
     "data": {
      "text/plain": [
       "8381165"
      ]
     },
     "execution_count": 70,
     "metadata": {},
     "output_type": "execute_result"
    }
   ],
   "source": [
    "diff = root.get_size() - 40000000\n",
    "diff"
   ]
  },
  {
   "cell_type": "code",
   "execution_count": 71,
   "metadata": {},
   "outputs": [
    {
     "data": {
      "text/plain": [
       "[584, 94853, 24933642, 48381165]"
      ]
     },
     "execution_count": 71,
     "metadata": {},
     "output_type": "execute_result"
    }
   ],
   "source": [
    "result = root.get_dir()\n",
    "result.sort()\n",
    "result"
   ]
  },
  {
   "cell_type": "code",
   "execution_count": 72,
   "metadata": {},
   "outputs": [
    {
     "data": {
      "text/plain": [
       "24933642"
      ]
     },
     "execution_count": 72,
     "metadata": {},
     "output_type": "execute_result"
    }
   ],
   "source": [
    "next((item for item in result if item > diff),None)"
   ]
  }
 ],
 "metadata": {
  "kernelspec": {
   "display_name": "Python 3.9.13 ('base')",
   "language": "python",
   "name": "python3"
  },
  "language_info": {
   "codemirror_mode": {
    "name": "ipython",
    "version": 3
   },
   "file_extension": ".py",
   "mimetype": "text/x-python",
   "name": "python",
   "nbconvert_exporter": "python",
   "pygments_lexer": "ipython3",
   "version": "3.9.13"
  },
  "orig_nbformat": 4,
  "vscode": {
   "interpreter": {
    "hash": "ad2bdc8ecc057115af97d19610ffacc2b4e99fae6737bb82f5d7fb13d2f2c186"
   }
  }
 },
 "nbformat": 4,
 "nbformat_minor": 2
}
