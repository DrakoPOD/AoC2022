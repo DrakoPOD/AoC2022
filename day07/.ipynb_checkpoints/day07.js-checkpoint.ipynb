{
 "cells": [
  {
   "cell_type": "code",
   "execution_count": 1,
   "metadata": {},
   "outputs": [],
   "source": [
    "var fs = require('fs');\n",
    "var raw;"
   ]
  },
  {
   "cell_type": "code",
   "execution_count": 2,
   "metadata": {},
   "outputs": [],
   "source": [
    "fs.readFile('./data-07.txt','utf8', (err,data)=>{\n",
    "  if(err){\n",
    "    console.log(err);\n",
    "    return\n",
    "  }\n",
    "  raw = data\n",
    "})\n",
    "raw"
   ]
  },
  {
   "cell_type": "code",
   "execution_count": 3,
   "metadata": {},
   "outputs": [
    {
     "data": {
      "text/plain": [
       "[\n",
       "  [ '$', 'cd', '/' ],\n",
       "  [ '$', 'ls' ],\n",
       "  [ 'dir', 'ccjp' ],\n",
       "  [ '328708', 'hglnvs.bsh' ],\n",
       "  [ 'dir', 'hpsnpc' ],\n",
       "  [ 'dir', 'pcb' ],\n",
       "  [ 'dir', 'pntzm' ],\n",
       "  [ 'dir', 'pzg' ],\n",
       "  [ 'dir', 'thfgwwsp' ],\n",
       "  [ '$', 'cd', 'ccjp' ],\n",
       "  [ '$', 'ls' ],\n",
       "  [ '159990', 'dlz' ],\n",
       "  [ 'dir', 'mbtsvblj' ],\n",
       "  [ '165076', 'nppbjl.qhg' ],\n",
       "  [ '$', 'cd', 'mbtsvblj' ],\n",
       "  [ '$', 'ls' ],\n",
       "  [ '34806', 'frqsf.nsv' ],\n",
       "  [ 'dir', 'ppq' ],\n",
       "  [ 'dir', 'ptht' ],\n",
       "  [ 'dir', 'rgmvdwt' ],\n",
       "  [ '$', 'cd', 'ppq' ],\n",
       "  [ '$', 'ls' ],\n",
       "  [ '266252', 'dhzp' ],\n",
       "  [ '$', 'cd', '..' ],\n",
       "  [ '$', 'cd', 'ptht' ],\n",
       "  [ '$', 'ls' ],\n",
       "  [ 'dir', 'jbnj' ],\n",
       "  [ 'dir', 'zcbnwhzd' ],\n",
       "  [ '$', 'cd', 'jbnj' ],\n",
       "  [ '$', 'ls' ],\n",
       "  [ 'dir', 'clscr' ],\n",
       "  [ '145780', 'zwtwf.zfz' ],\n",
       "  [ '$', 'cd', 'clscr' ],\n",
       "  [ '$', 'ls' ],\n",
       "  [ '249531', 'dhzp' ],\n",
       "  [ '$', 'cd', '..' ],\n",
       "  [ '$', 'cd', '..' ],\n",
       "  [ '$', 'cd', 'zcbnwhzd' ],\n",
       "  [ '$', 'ls' ],\n",
       "  [ 'dir', 'mbtsvblj' ],\n",
       "  [ '$', 'cd', 'mbtsvblj' ],\n",
       "  [ '$', 'ls' ],\n",
       "  [ '258527', 'pjhvzjt.brz' ],\n",
       "  [ '$', 'cd', '..' ],\n",
       "  [ '$', 'cd', '..' ],\n",
       "  [ '$', 'cd', '..' ],\n",
       "  [ '$', 'cd', 'rgmvdwt' ],\n",
       "  [ '$', 'ls' ],\n",
       "  [ '166021', 'hdb' ],\n",
       "  [ '115350', 'ljpzpdbf' ],\n",
       "  [ '$', 'cd', '..' ],\n",
       "  [ '$', 'cd', '..' ],\n",
       "  [ '$', 'cd', '..' ],\n",
       "  [ '$', 'cd', 'hpsnpc' ],\n",
       "  [ '$', 'ls' ],\n",
       "  [ '6334', 'bfdfbrh.vff' ],\n",
       "  [ '311949', 'qphlw.whm' ],\n",
       "  [ '$', 'cd', '..' ],\n",
       "  [ '$', 'cd', 'pcb' ],\n",
       "  [ '$', 'ls' ],\n",
       "  [ 'dir', 'ccjp' ],\n",
       "  [ '201615', 'gbpzf.gmg' ],\n",
       "  [ 'dir', 'lhth' ],\n",
       "  [ '319302', 'lrmj.rmm' ],\n",
       "  [ 'dir', 'mwl' ],\n",
       "  [ '303062', 'pvftq' ],\n",
       "  [ '$', 'cd', 'ccjp' ],\n",
       "  [ '$', 'ls' ],\n",
       "  [ '10932', 'ccjp' ],\n",
       "  [ '80040', 'jjcggmr.ljs' ],\n",
       "  [ '299982', 'jrqwhsn.ptv' ],\n",
       "  [ '280655', 'ljpzpdbf' ],\n",
       "  [ '268430', 'mdvvj.dlf' ],\n",
       "  [ 'dir', 'mvhhlg' ],\n",
       "  [ 'dir', 'ppfq' ],\n",
       "  [ 'dir', 'rdgngdm' ],\n",
       "  [ 'dir', 'smftmb' ],\n",
       "  [ 'dir', 'tqwchhd' ],\n",
       "  [ '$', 'cd', 'mvhhlg' ],\n",
       "  [ '$', 'ls' ],\n",
       "  [ '146902', 'fwhcbfr.shd' ],\n",
       "  [ '$', 'cd', '..' ],\n",
       "  [ '$', 'cd', 'ppfq' ],\n",
       "  [ '$', 'ls' ],\n",
       "  [ '263452', 'hdb' ],\n",
       "  [ '$', 'cd', '..' ],\n",
       "  [ '$', 'cd', 'rdgngdm' ],\n",
       "  [ '$', 'ls' ],\n",
       "  [ '46355', 'wlgshdgl' ],\n",
       "  [ '$', 'cd', '..' ],\n",
       "  [ '$', 'cd', 'smftmb' ],\n",
       "  [ '$', 'ls' ],\n",
       "  [ '56834', 'mhs' ],\n",
       "  [ '325038', 'ppmtvcj' ],\n",
       "  [ 'dir', 'rzcmwl' ],\n",
       "  [ '194645', 'ztwqq.jfw' ],\n",
       "  [ '$', 'cd', 'rzcmwl' ],\n",
       "  [ '$', 'ls' ],\n",
       "  [ 'dir', 'btfhswwf' ],\n",
       "  [ 'dir', 'jrd' ],\n",
       "  ... 951 more items\n",
       "]"
      ]
     },
     "execution_count": 3,
     "metadata": {},
     "output_type": "execute_result"
    }
   ],
   "source": [
    "var data1 = raw.split('\\r\\n').map(x=>x.split(' '))\n",
    "data1"
   ]
  },
  {
   "cell_type": "code",
   "execution_count": 15,
   "metadata": {},
   "outputs": [],
   "source": [
    "function scan(dir, name) {\n",
    "  var total = 0;\n",
    "  var line = data1[idx];\n",
    "\n",
    "  if (line[0] == '$') {\n",
    "    if (line[1] == 'ls') {\n",
    "      while (idx < max) {\n",
    "        idx++;\n",
    "        line = data1[idx];\n",
    "        \n",
    "        if (line[0] == '$') break;\n",
    "        \n",
    "        const num = Number(line[0]);\n",
    "        if (!isNaN(num)) {\n",
    "          dir[line[1]] = num;\n",
    "          total += num;\n",
    "        } else {\n",
    "          dir[line[1]] = {};\n",
    "        }\n",
    "\n",
    "      }\n",
    "    }\n",
    "    while (idx < max) {\n",
    "      line = data1[idx];\n",
    "      if (line[1] == 'cd') {\n",
    "        if (line[2] == '..') {\n",
    "          size[name] = total;\n",
    "          return total;\n",
    "        }\n",
    "        total = total + scan(dir[line[2]], line[2]);\n",
    "        size[name] = total;\n",
    "      }\n",
    "      idx++;\n",
    "    }\n",
    "    return total;\n",
    "  }\n",
    "}\n"
   ]
  },
  {
   "cell_type": "code",
   "execution_count": 16,
   "metadata": {},
   "outputs": [
    {
     "ename": "TypeError",
     "evalue": "Cannot read properties of undefined (reading '/')",
     "output_type": "error",
     "traceback": [
      "evalmachine.<anonymous>:30",
      "        total = total + scan(dir[line[2]], line[2]);",
      "                                ^",
      "",
      "TypeError: Cannot read properties of undefined (reading '/')",
      "    at scan (evalmachine.<anonymous>:30:33)",
      "    at scan (evalmachine.<anonymous>:30:25)",
      "    at scan (evalmachine.<anonymous>:30:25)",
      "    at evalmachine.<anonymous>:6:1",
      "    at Script.runInThisContext (node:vm:129:12)",
      "    at Object.runInThisContext (node:vm:313:38)",
      "    at run ([eval]:1020:15)",
      "    at onRunRequest ([eval]:864:18)",
      "    at onMessage ([eval]:828:13)",
      "    at process.emit (node:events:513:28)"
     ]
    }
   ],
   "source": [
    "var dirs ={}\n",
    "dirs['/'] = {}\n",
    "var size = {}\n",
    "var idx = 0;\n",
    "var max = data1.length\n",
    "scan(dirs,'/')\n"
   ]
  },
  {
   "cell_type": "code",
   "execution_count": 9,
   "metadata": {},
   "outputs": [
    {
     "data": {
      "text/plain": [
       "0"
      ]
     },
     "execution_count": 9,
     "metadata": {},
     "output_type": "execute_result"
    }
   ],
   "source": [
    "Object.values(size).length"
   ]
  }
 ],
 "metadata": {
  "kernelspec": {
   "display_name": "JavaScript (Node.js)",
   "language": "javascript",
   "name": "javascript"
  },
  "language_info": {
   "file_extension": ".js",
   "mimetype": "application/javascript",
   "name": "javascript",
   "version": "18.12.1"
  },
  "vscode": {
   "interpreter": {
    "hash": "ad2bdc8ecc057115af97d19610ffacc2b4e99fae6737bb82f5d7fb13d2f2c186"
   }
  }
 },
 "nbformat": 4,
 "nbformat_minor": 2
}
