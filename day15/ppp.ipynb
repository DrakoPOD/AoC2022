{
 "cells": [
  {
   "cell_type": "code",
   "execution_count": 1,
   "metadata": {},
   "outputs": [],
   "source": [
    "var fs = require('fs').promises"
   ]
  },
  {
   "cell_type": "code",
   "execution_count": 2,
   "metadata": {},
   "outputs": [],
   "source": [
    "var raw\n",
    "(async ()=>{\n",
    "raw = await fs.readFile('./example-15.txt','utf8')\n",
    "})()\n",
    "raw"
   ]
  },
  {
   "cell_type": "code",
   "execution_count": 3,
   "metadata": {},
   "outputs": [
    {
     "data": {
      "text/plain": [
       "[\n",
       "  { sensor: { x: 2, y: 18 }, beacon: { x: -2, y: 15 } },\n",
       "  { sensor: { x: 9, y: 16 }, beacon: { x: 10, y: 16 } },\n",
       "  { sensor: { x: 13, y: 2 }, beacon: { x: 15, y: 3 } },\n",
       "  { sensor: { x: 12, y: 14 }, beacon: { x: 10, y: 16 } },\n",
       "  { sensor: { x: 10, y: 20 }, beacon: { x: 10, y: 16 } },\n",
       "  { sensor: { x: 14, y: 17 }, beacon: { x: 10, y: 16 } },\n",
       "  { sensor: { x: 8, y: 7 }, beacon: { x: 2, y: 10 } },\n",
       "  { sensor: { x: 2, y: 0 }, beacon: { x: 2, y: 10 } },\n",
       "  { sensor: { x: 0, y: 11 }, beacon: { x: 2, y: 10 } },\n",
       "  { sensor: { x: 20, y: 14 }, beacon: { x: 25, y: 17 } },\n",
       "  { sensor: { x: 17, y: 20 }, beacon: { x: 21, y: 22 } },\n",
       "  { sensor: { x: 16, y: 7 }, beacon: { x: 15, y: 3 } },\n",
       "  { sensor: { x: 14, y: 3 }, beacon: { x: 15, y: 3 } },\n",
       "  { sensor: { x: 20, y: 1 }, beacon: { x: 15, y: 3 } }\n",
       "]"
      ]
     },
     "execution_count": 3,
     "metadata": {},
     "output_type": "execute_result"
    }
   ],
   "source": [
    "var matchs = raw.split('\\n').map(line=> [...line.matchAll(/((?:x=)(?<x>-?\\d+)(?:, y=)(?<y>-?\\d+)+)/g)])\n",
    "\n",
    "var data = matchs.map(match=>{\n",
    "  return {\n",
    "    sensor: {\n",
    "      x: Number(match[0].groups.x), \n",
    "      y: Number(match[0].groups.y) \n",
    "    },\n",
    "    beacon: {\n",
    "      x: Number(match[1].groups.x), \n",
    "      y: Number(match[1].groups.y) \n",
    "    }\n",
    "  }\n",
    "})\n",
    "data"
   ]
  },
  {
   "cell_type": "code",
   "execution_count": 4,
   "metadata": {},
   "outputs": [
    {
     "data": {
      "text/plain": [
       "{\n",
       "  '2,18': 'S',\n",
       "  '-2,15': 'B',\n",
       "  '9,16': 'S',\n",
       "  '10,16': 'B',\n",
       "  '13,2': 'S',\n",
       "  '15,3': 'B',\n",
       "  '12,14': 'S',\n",
       "  '10,20': 'S',\n",
       "  '14,17': 'S',\n",
       "  '8,7': 'S',\n",
       "  '2,10': 'B',\n",
       "  '2,0': 'S',\n",
       "  '0,11': 'S',\n",
       "  '20,14': 'S',\n",
       "  '25,17': 'B',\n",
       "  '17,20': 'S',\n",
       "  '21,22': 'B',\n",
       "  '16,7': 'S',\n",
       "  '14,3': 'S',\n",
       "  '20,1': 'S'\n",
       "}"
      ]
     },
     "execution_count": 4,
     "metadata": {},
     "output_type": "execute_result"
    }
   ],
   "source": [
    "var maps = {}\n",
    "\n",
    "data.forEach(read => {\n",
    "  let pos = read.sensor.x + ',' + read.sensor.y\n",
    "  maps[pos] = 'S'\n",
    "  pos = read.beacon.x  + ',' + read.beacon.y \n",
    "  maps[pos] = 'B'\n",
    "})\n",
    "maps"
   ]
  },
  {
   "cell_type": "code",
   "execution_count": 5,
   "metadata": {},
   "outputs": [
    {
     "name": "stdout",
     "output_type": "stream",
     "text": [
      "[ 7, 6 ]\n",
      "[ 1, 0 ]\n",
      "[ 3, 2 ]\n",
      "[ 4, 3 ]\n",
      "[ 4, 3 ]\n",
      "[ 5, 4 ]\n",
      "[ 9, 8 ]\n",
      "[ 10, 9 ]\n",
      "[ 3, 2 ]\n",
      "[ 8, 7 ]\n",
      "[ 6, 5 ]\n",
      "[ 5, 4 ]\n",
      "[ 1, 0 ]\n",
      "[ 7, 6 ]\n"
     ]
    }
   ],
   "source": [
    "var x_max = -Infinity\n",
    "var x_min = Infinity\n",
    "var y_max = -Infinity\n",
    "var y_min = Infinity\n",
    "\n",
    "var count1 = 0\n",
    "\n",
    "data.forEach(read => {\n",
    "  const { sensor: {x: Sx, y: Sy}, beacon: {x: Bx, y: By}} = read\n",
    "\n",
    "  let Dx = Math.abs(Sx - Bx)\n",
    "  let Dy = Math.abs(Sy - By)\n",
    "\n",
    "  x_max = Math.max(x_max, (Sx + (Dx + Dy)))\n",
    "  x_min = Math.min(x_min, (Sx - (Dx + Dy)))\n",
    "\n",
    "  let x_lim = 0\n",
    "  for (let y = Sy - (Dy + Dx); y <= (Sy + Dy + Dx); y++){\n",
    "    for (let x = -x_lim; x <= x_lim; x++){\n",
    "      let pos = (Sx + x) + ',' + y\n",
    " \n",
    "      if (maps[pos] == undefined) {\n",
    "        maps[pos] = '#'\n",
    "        if (y == 10) count1++\n",
    "      }\n",
    "    }\n",
    "\n",
    "    y < Sy ? x_lim++ : x_lim--\n",
    "    if( y == Sy) console.log([Dx+Dy,x_lim])\n",
    "  }\n",
    "});"
   ]
  },
  {
   "cell_type": "code",
   "execution_count": 6,
   "metadata": {},
   "outputs": [
    {
     "data": {
      "text/plain": [
       "[ 22, 26 ]"
      ]
     },
     "execution_count": 6,
     "metadata": {},
     "output_type": "execute_result"
    }
   ],
   "source": [
    "var line = 10\n",
    "\n",
    "var beacon = data.filter(read => read.beacon.y == line)[0]\n",
    "var count = 0\n",
    "for(let i = x_min; i <= x_max; i++){\n",
    "  let pos = (x_min + i) + ',' + line\n",
    "  if (maps[pos] == '#') count++\n",
    "}\n",
    "[count,count1]"
   ]
  }
 ],
 "metadata": {
  "kernelspec": {
   "display_name": "JavaScript (Node.js)",
   "language": "javascript",
   "name": "javascript"
  },
  "language_info": {
   "file_extension": ".js",
   "mimetype": "application/javascript",
   "name": "javascript",
   "version": "16.18.1"
  },
  "orig_nbformat": 4,
  "vscode": {
   "interpreter": {
    "hash": "3ad933181bd8a04b432d3370b9dc3b0662ad032c4dfaa4e4f1596c548f763858"
   }
  }
 },
 "nbformat": 4,
 "nbformat_minor": 2
}
