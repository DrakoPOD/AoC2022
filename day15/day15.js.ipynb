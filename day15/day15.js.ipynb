{
 "cells": [
  {
   "cell_type": "code",
   "execution_count": 4,
   "metadata": {},
   "outputs": [
    {
     "name": "stdout",
     "output_type": "stream",
     "text": [
      "[\n",
      "  'x=9, y=16: closest beacon is at x=10, y=20',\n",
      "  'x=9, y=16: closest beacon is at x=10, y=20',\n",
      "  '9',\n",
      "  '20',\n",
      "  index: 7,\n",
      "  input: 'Sensor x=9, y=16: closest beacon is at x=10, y=20',\n",
      "  groups: [Object: null prototype] { x: '9', y: '20' }\n",
      "]\n"
     ]
    }
   ],
   "source": [
    "var a = 'Sensor x=9, y=16: closest beacon is at x=10, y=20'\n",
    "\n",
    "var match  = a.matchAll(/((?:x=)(?<x>-?\\d+).*y=(?<y>-?\\d+)+)/mg)\n",
    "\n",
    "for (m of match){\n",
    "  console.log(m)\n",
    "}"
   ]
  },
  {
   "cell_type": "code",
   "execution_count": 2,
   "metadata": {},
   "outputs": [
    {
     "name": "stdout",
     "output_type": "stream",
     "text": [
      "[\n",
      "  'First_Name: John, Last_Name: Doe',\n",
      "  'John',\n",
      "  'Doe',\n",
      "  index: 0,\n",
      "  input: 'First_Name: John, Last_Name: Doe\\nFirst_Name: Jane, Last_Name: Smith',\n",
      "  groups: undefined\n",
      "]\n",
      "[\n",
      "  'First_Name: Jane, Last_Name: Smith',\n",
      "  'Jane',\n",
      "  'Smith',\n",
      "  index: 33,\n",
      "  input: 'First_Name: John, Last_Name: Doe\\nFirst_Name: Jane, Last_Name: Smith',\n",
      "  groups: undefined\n",
      "]\n"
     ]
    }
   ],
   "source": [
    "var personList = `First_Name: John, Last_Name: Doe\n",
    "First_Name: Jane, Last_Name: Smith`;\n",
    "\n",
    "var regexpNames =  /First_Name: (\\w+), Last_Name: (\\w+)/mg;\n",
    "for (const match of personList.matchAll(regexpNames)) {\n",
    "  console.log(match)\n",
    "  // console.log(`Hello ${match[1]} ${match[2]}`);\n",
    "}"
   ]
  }
 ],
 "metadata": {
  "kernelspec": {
   "display_name": "JavaScript (Node.js)",
   "language": "javascript",
   "name": "javascript"
  },
  "language_info": {
   "file_extension": ".js",
   "mimetype": "application/javascript",
   "name": "javascript",
   "version": "18.12.1"
  },
  "orig_nbformat": 4,
  "vscode": {
   "interpreter": {
    "hash": "ad2bdc8ecc057115af97d19610ffacc2b4e99fae6737bb82f5d7fb13d2f2c186"
   }
  }
 },
 "nbformat": 4,
 "nbformat_minor": 2
}
