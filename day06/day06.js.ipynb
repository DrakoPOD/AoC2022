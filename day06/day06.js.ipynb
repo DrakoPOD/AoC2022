{
 "cells": [
  {
   "cell_type": "code",
   "execution_count": 1,
   "metadata": {},
   "outputs": [],
   "source": [
    "var fs = require('fs');\n",
    "var raw;"
   ]
  },
  {
   "cell_type": "code",
   "execution_count": 2,
   "metadata": {},
   "outputs": [],
   "source": [
    "fs.readFile('./data-06.txt','utf8', (err,data)=>{\n",
    "  if(err){\n",
    "    console.log(err);\n",
    "    return\n",
    "  }\n",
    "  raw = data\n",
    "})\n",
    "raw"
   ]
  },
  {
   "cell_type": "code",
   "execution_count": 3,
   "metadata": {},
   "outputs": [
    {
     "data": {
      "text/plain": [
       "1582"
      ]
     },
     "execution_count": 3,
     "metadata": {},
     "output_type": "execute_result"
    }
   ],
   "source": [
    "var data1 = raw\n",
    "\n",
    "for (var i = 0; i < data1.length - 3; i++) {\n",
    "  const msg = data1.slice(i,i+3)\n",
    "  const marker = data1.at(i+3)\n",
    "  // console.log(`${msg} --- ${marker}`)\n",
    "  if(!((/([a-zA-Z]).*(\\1)/g).test(msg)) && !msg.includes(marker)){\n",
    "    break\n",
    "  }\n",
    "}\n",
    "i+4"
   ]
  },
  {
   "cell_type": "markdown",
   "metadata": {},
   "source": [
    "# Parte 2"
   ]
  },
  {
   "cell_type": "code",
   "execution_count": 4,
   "metadata": {},
   "outputs": [
    {
     "data": {
      "text/plain": [
       "3588"
      ]
     },
     "execution_count": 4,
     "metadata": {},
     "output_type": "execute_result"
    }
   ],
   "source": [
    "for (i=0; i < data1.length - 14; i++) {\n",
    "  const msg = data1.slice(i,i+13)\n",
    "  const marker = data1.at(i+13)\n",
    "  // console.log(`${msg} --- ${marker}`)\n",
    "  if(!((/([a-zA-Z]).*(\\1)/g).test(msg)) && !msg.includes(marker)){\n",
    "    break\n",
    "  }\n",
    "}\n",
    "i+14"
   ]
  }
 ],
 "metadata": {
  "kernelspec": {
   "display_name": "JavaScript (Node.js)",
   "language": "javascript",
   "name": "javascript"
  },
  "language_info": {
   "file_extension": ".js",
   "mimetype": "application/javascript",
   "name": "javascript",
   "version": "18.12.1"
  },
  "orig_nbformat": 4
 },
 "nbformat": 4,
 "nbformat_minor": 2
}
